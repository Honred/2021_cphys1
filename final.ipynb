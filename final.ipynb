{
 "cells": [
  {
   "cell_type": "code",
   "execution_count": 1,
   "metadata": {},
   "outputs": [],
   "source": [
    "import numpy as np\n",
    "import matplotlib.pyplot as plt\n",
    "import scipy as sp\n",
    "import scipy.stats\n",
    "import seaborn as sns\n",
    "import sympy\n",
    "from sympy import Symbol\n",
    "from sympy import *\n",
    "import matplotlib as mat\n",
    "from matplotlib import font_manager\n",
    "plt.rc('font', family='DejaVu Sans')"
   ]
  },
  {
   "cell_type": "markdown",
   "metadata": {},
   "source": [
    "# 1. Random Walks¶\n",
    "* https://ko.wikipedia.org/wiki/%EB%AC%B4%EC%9E%91%EC%9C%84_%ED%96%89%EB%B3%B4\n",
    "\n",
    "(a) 1차원 랜덤워크 모형을 시뮬레이션으로 구현하여라. 구체적으로 1차원 격자에서 왼쪽으로 움직일 확률이 1/2, 오른쪽으로 움직일 확률이 1/2로 가정하자. 그리고 $t$시간이 지난 후에 입자가 존재하는 위치를 구하는 코드를 작성하여라. 초기에 입자는 원점에 존재하며 매 타임스텝마다 1번씩 움직인다. (몬테카를로 시뮬레이션)"
   ]
  },
  {
   "cell_type": "code",
   "execution_count": 2,
   "metadata": {
    "scrolled": true
   },
   "outputs": [
    {
     "data": {
      "text/plain": [
       "Text(0, 0.5, 'Positon')"
      ]
     },
     "execution_count": 2,
     "metadata": {},
     "output_type": "execute_result"
    },
    {
     "data": {
      "image/png": "[encoded data removed]",
      "text/plain": [
       "<Figure size 432x288 with 1 Axes>"
      ]
     },
     "metadata": {
      "needs_background": "light"
     },
     "output_type": "display_data"
    }
   ],
   "source": [
    "N = 1 # number of random walks\n",
    "T = 2000 # time span\n",
    "\n",
    "position = np.zeros((N, T+1))\n",
    "\n",
    "for i in range (0, N):\n",
    "    for t in range(1, T+1):\n",
    "        random = np.random.random()\n",
    "        if random > 0.5:\n",
    "            position[i][t] = position[i][t-1] + 1\n",
    "        elif random < 0.5:\n",
    "            position[i][t] = position[i][t-1] - 1\n",
    "\n",
    "plt.plot(position[i])\n",
    "plt.xlabel(\"Number of moves\")\n",
    "plt.ylabel(\"Positon\")"
   ]
  },
  {
   "cell_type": "markdown",
   "metadata": {},
   "source": [
    "(b) 이러한 시행을 충분히 많이 시행하여서 $t$시간 후에 입자가 특정 위치에 존재하는 확률 분포를 구하여라. (파이썬 기초)"
   ]
  },
  {
   "cell_type": "code",
   "execution_count": 3,
   "metadata": {
    "scrolled": true
   },
   "outputs": [],
   "source": [
    "import numpy as np\n",
    "import matplotlib.pyplot as plt\n",
    " \n",
    "N = 10000 # number of random walks\n",
    "T = 5000  # time span\n",
    "I = []  # random walkers final position\n",
    "\n",
    "position = np.zeros((N, T+1))\n",
    "\n",
    "for i in range (0, N):\n",
    "    for t in range(1, T+1):\n",
    "        random = np.random.random()\n",
    "        if random > 0.5:\n",
    "            position[i][t] = position[i][t-1] + 1\n",
    "        elif random < 0.5:\n",
    "            position[i][t] = position[i][t-1] - 1\n",
    "    I.append(position[i][T])"
   ]
  },
  {
   "cell_type": "code",
   "execution_count": 4,
   "metadata": {
    "scrolled": false
   },
   "outputs": [
    {
     "name": "stderr",
     "output_type": "stream",
     "text": [
      "C:\\Users\\bbang\\anaconda3\\lib\\site-packages\\seaborn\\distributions.py:2551: FutureWarning: `distplot` is a deprecated function and will be removed in a future version. Please adapt your code to use either `displot` (a figure-level function with similar flexibility) or `histplot` (an axes-level function for histograms).\n",
      "  warnings.warn(msg, FutureWarning)\n",
      "C:\\Users\\bbang\\anaconda3\\lib\\site-packages\\seaborn\\distributions.py:1649: FutureWarning: The `vertical` parameter is deprecated and will be removed in a future version. Assign the data to the `y` variable instead.\n",
      "  warnings.warn(msg, FutureWarning)\n"
     ]
    },
    {
     "data": {
      "text/plain": [
       "<AxesSubplot:xlabel='Density'>"
      ]
     },
     "execution_count": 4,
     "metadata": {},
     "output_type": "execute_result"
    },
    {
     "data": {
      "image/png": "[encoded data removed]",
      "text/plain": [
       "<Figure size 432x288 with 1 Axes>"
      ]
     },
     "metadata": {
      "needs_background": "light"
     },
     "output_type": "display_data"
    }
   ],
   "source": [
    "sns.distplot(I,bins=100,kde=True,kde_kws={\"color\":\"g\",\"alpha\":0.22,\"linewidth\":1,\"shade\":True},vertical=True)"
   ]
  },
  {
   "cell_type": "markdown",
   "metadata": {},
   "source": [
    "# 2. Bifurcation\n",
    "다음으로 주어지는 미분방정식이 있다.\n",
    "$$ \\frac{dx}{dt}=rx-x^2$$"
   ]
  },
  {
   "cell_type": "markdown",
   "metadata": {},
   "source": [
    "(a) 이 방정식을 다음의 조건에서 풀고 궤적을 그려라. (미분방정식)\n",
    "1. r=-1, x(0)=2\n",
    "2. r=-1, x(0)=-2\n",
    "3. r=1, x(0)=2\n",
    "4. r=1, x(0)=-2"
   ]
  },
  {
   "cell_type": "code",
   "execution_count": 5,
   "metadata": {},
   "outputs": [
    {
     "data": {
      "text/plain": [
       "(x, Derivative(x(t), t))"
      ]
     },
     "execution_count": 5,
     "metadata": {},
     "output_type": "execute_result"
    }
   ],
   "source": [
    "r, x, t = sympy.symbols('r,x,t')\n",
    "x = Function('x')\n",
    "x, x(t).diff(t)"
   ]
  },
  {
   "cell_type": "code",
   "execution_count": 6,
   "metadata": {},
   "outputs": [
    {
     "data": {
      "text/latex": [
       "$\\displaystyle x{\\left(t \\right)} = - \\frac{2}{3 \\left(\\frac{2}{3} - e^{t}\\right)}$"
      ],
      "text/plain": [
       "Eq(x(t), -2/(3*(2/3 - exp(t))))"
      ]
     },
     "execution_count": 6,
     "metadata": {},
     "output_type": "execute_result"
    }
   ],
   "source": [
    "r = -1\n",
    "dsolve(Eq(x(t).diff(t),r*x(t)-x(t)**2),ics= {x(0):2})"
   ]
  },
  {
   "cell_type": "code",
   "execution_count": 7,
   "metadata": {},
   "outputs": [
    {
     "data": {
      "text/latex": [
       "$\\displaystyle x{\\left(t \\right)} = - \\frac{2}{2 - e^{t}}$"
      ],
      "text/plain": [
       "Eq(x(t), -2/(2 - exp(t)))"
      ]
     },
     "execution_count": 7,
     "metadata": {},
     "output_type": "execute_result"
    }
   ],
   "source": [
    "r = -1\n",
    "dsolve(Eq(x(t).diff(t),r*x(t)-x(t)**2),ics= {x(0):-2})"
   ]
  },
  {
   "cell_type": "code",
   "execution_count": 8,
   "metadata": {
    "scrolled": true
   },
   "outputs": [
    {
     "data": {
      "text/latex": [
       "$\\displaystyle x{\\left(t \\right)} = \\frac{1}{1 - \\frac{e^{- t}}{2}}$"
      ],
      "text/plain": [
       "Eq(x(t), 1/(1 - exp(-t)/2))"
      ]
     },
     "execution_count": 8,
     "metadata": {},
     "output_type": "execute_result"
    }
   ],
   "source": [
    "r = 1\n",
    "dsolve(Eq(x(t).diff(t),r*x(t)-x(t)**2),ics= {x(0):2})"
   ]
  },
  {
   "cell_type": "code",
   "execution_count": 9,
   "metadata": {
    "scrolled": true
   },
   "outputs": [
    {
     "data": {
      "text/latex": [
       "$\\displaystyle x{\\left(t \\right)} = - \\frac{2}{3 \\left(\\frac{2}{3} - e^{t}\\right)}$"
      ],
      "text/plain": [
       "Eq(x(t), -2/(3*(2/3 - exp(t))))"
      ]
     },
     "execution_count": 9,
     "metadata": {},
     "output_type": "execute_result"
    }
   ],
   "source": [
    "r = -1\n",
    "dsolve(Eq(x(t).diff(t),r*x(t)-x(t)**2),ics= {x(0):2})"
   ]
  },
  {
   "cell_type": "markdown",
   "metadata": {},
   "source": [
    "(b) 정상상태(dx/dt=0)에서 가능한 해를 구하여라. (방정식)\n",
    "\n",
    "즉, 다음의 조건에서 파이썬을 이용하여 방정식을 풀어라.\n",
    "$$0=rx-x^2=x(r-x)$$\n",
    "1. r=-1\n",
    "2. r=1"
   ]
  },
  {
   "cell_type": "code",
   "execution_count": 10,
   "metadata": {},
   "outputs": [],
   "source": [
    "x, r = sympy.symbols('x, r')"
   ]
  },
  {
   "cell_type": "code",
   "execution_count": 14,
   "metadata": {
    "scrolled": true
   },
   "outputs": [
    {
     "data": {
      "text/plain": [
       "[{x: -1}, {x: 0}]"
      ]
     },
     "execution_count": 14,
     "metadata": {},
     "output_type": "execute_result"
    }
   ],
   "source": [
    "r = -1\n",
    "eq = x*(r-x)\n",
    "solve((eq),dict=True)"
   ]
  },
  {
   "cell_type": "code",
   "execution_count": 15,
   "metadata": {
    "scrolled": true
   },
   "outputs": [
    {
     "data": {
      "text/plain": [
       "[{x: 0}, {x: 1}]"
      ]
     },
     "execution_count": 15,
     "metadata": {},
     "output_type": "execute_result"
    }
   ],
   "source": [
    "r = 1\n",
    "eq = x*(r-x)\n",
    "solve((eq),dict=True)"
   ]
  }
 ],
 "metadata": {
  "kernelspec": {
   "display_name": "Python 3",
   "language": "python",
   "name": "python3"
  },
  "language_info": {
   "codemirror_mode": {
    "name": "ipython",
    "version": 3
   },
   "file_extension": ".py",
   "mimetype": "text/x-python",
   "name": "python",
   "nbconvert_exporter": "python",
   "pygments_lexer": "ipython3",
   "version": "3.8.5"
  }
 },
 "nbformat": 4,
 "nbformat_minor": 4
}
