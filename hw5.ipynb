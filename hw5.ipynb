{
 "cells": [
  {
   "cell_type": "markdown",
   "metadata": {},
   "source": [
    "# 1. Vibration in a one-dimensional system"
   ]
  },
  {
   "cell_type": "markdown",
   "metadata": {},
   "source": [
    "질량이 $m$인 $N$개의 동일한 물체가 일렬로 동일한 용수철에 매달려 있다. $i$번째 물체의 운동방정식은 다음처럼 주어진다.\n",
    "$$m \\frac{d^2 x_i}{dt^2} = k(x_{i+1}-x_{i}) - k(x_i-x_{i-1})$$\n",
    "한쪽 끝에서 연결된 용수철에 주기적인 힘($F$)을 가하고 있다. 그러면 양 끝단에 물체에 운동방정식은 다음과 같다.\n",
    "$$m \\frac{d^2 x_1}{dt^2} = k(x_{2}-x_{1}) + F \\\\\n",
    "m \\frac{d^2 x_N}{dt^2} = -k(x_{N}-x_{N-1})$$\n",
    "만약 주기적인 힘이 $F=C e^{i wt}$로 주어지면 $x$는 다음의 $x_i(t)=a_i e^{iwt}$해를 가진다. 정리하면 다음과 같은 방정식을 얻을 수 있다.\n",
    "$$(d -k)a_1 -k a_2 = C, \\\\\n",
    "d a_i - k a_{i-1}- k a_{i+1} = 0, \\\\\n",
    "(d - k)a_N - k x_{N-1} =0$$\n",
    "여기에서 $d=2k-mw^2$이다.\n",
    "\n",
    "위의 운동방정식을 행렬로 표현하면 다음과 같다.\n",
    "$$Ma=b $$$$\n",
    "M=\n",
    "\\begin{pmatrix}\n",
    "d-k & -k & 0 & 0 & 0 & \\cdots \\\\\n",
    "-k & d & -k & 0 & 0 & \\cdots \\\\\n",
    "0 & -k & d & -k & 0 & \\cdots \\\\\n",
    "\\cdots &\\cdots &\\cdots &\\cdots &\\cdots & \\cdots  \\\\\n",
    "0 & 0 & 0& 0& -k & d-k \n",
    "\\end{pmatrix}, \\quad\n",
    "a=\n",
    "\\begin{pmatrix}\n",
    "a_1 \\\\ \n",
    "a_2 \\\\ \n",
    "a_3 \\\\ \n",
    "\\cdots \\\\ \n",
    "a_N  \n",
    "\\end{pmatrix}, \\quad\n",
    "b=\n",
    "\\begin{pmatrix}\n",
    "C \\\\ \n",
    "0 \\\\ \n",
    "0 \\\\ \n",
    "\\cdots \\\\ \n",
    "0 \n",
    "\\end{pmatrix}\n",
    "$$\n",
    "\n",
    "$m=1$, $k=1$, $C=1$, $N=40$으로 고정하세요.\n",
    "\n",
    "$w$ (즉, d)를 바꾸어가면서 $a_i$를 구하세요.\n",
    "\n",
    "이를 그래프로 표현하고 의미를 설명하세요. x축이 i (1~N), y축이 $a_i$\n",
    "\n",
    "40X40 행렬을 직접 입력하는 것을 금지하지는 않지만 그렇게 하지 않기를 바랍니다.\n",
    "\n",
    "np.zeros(n) 함수는 크기가 n이며 모든 성분이 0인 배열을 만드는 명령어입니다."
   ]
  },
  {
   "cell_type": "code",
   "execution_count": 1,
   "metadata": {},
   "outputs": [],
   "source": [
    "import math\n",
    "import matplotlib.pyplot as plt\n",
    "import numpy as np\n",
    "from scipy import linalg"
   ]
  },
  {
   "cell_type": "code",
   "execution_count": 2,
   "metadata": {},
   "outputs": [],
   "source": [
    "m,k=1,1"
   ]
  },
  {
   "cell_type": "code",
   "execution_count": 3,
   "metadata": {},
   "outputs": [
    {
     "name": "stdout",
     "output_type": "stream",
     "text": [
      "[[ 0. -1.  0. ...  0.  0.  0.]\n",
      " [-1.  1. -1. ...  0.  0.  0.]\n",
      " [ 0. -1.  1. ...  0.  0.  0.]\n",
      " ...\n",
      " [ 0.  0.  0. ...  1. -1.  0.]\n",
      " [ 0.  0.  0. ... -1.  1. -1.]\n",
      " [ 0.  0.  0. ...  0. -1.  0.]]\n",
      "[[-1. -1. -0. ... -1. -0.  1.]\n",
      " [-1. -0. -0. ... -0. -0. -0.]\n",
      " [ 0.  0.  0. ...  1.  0. -1.]\n",
      " ...\n",
      " [-1. -0.  1. ... -0. -0. -0.]\n",
      " [ 0.  0.  0. ...  0.  0. -1.]\n",
      " [ 1. -0. -1. ... -0. -1. -1.]]\n"
     ]
    }
   ],
   "source": [
    "m,k,w=1,1,1\n",
    "\n",
    "def d(w):\n",
    "    return (2*k)-(m*(w**2))\n",
    "\n",
    "M1 = np.identity(40)\n",
    "for N in range(0,40):\n",
    "    for M in range(0,40):\n",
    "        if N == 0 and M == 0:\n",
    "            M1[N][M] = d(w)-k\n",
    "            \n",
    "        elif N == 0 and M == 1:\n",
    "            M1[N][M] =-k\n",
    "            \n",
    "        elif N == 39 and M == 38:\n",
    "            M1[N][M] =-k\n",
    "            \n",
    "        elif N == 39 and M == 39:\n",
    "            M1[N][M] = d(w)-k\n",
    "            \n",
    "        elif N == M+1:\n",
    "            M1[N][M] =-k\n",
    "            \n",
    "        elif N == M:\n",
    "            M1[N][M] = d(w)\n",
    "            \n",
    "        elif N == M-1:\n",
    "            M1[N][M] =-k\n",
    "print(M1)\n",
    "M1i = np.linalg.inv(M1)\n",
    "print(M1i)"
   ]
  },
  {
   "cell_type": "code",
   "execution_count": 4,
   "metadata": {},
   "outputs": [
    {
     "name": "stdout",
     "output_type": "stream",
     "text": [
      "[[-3. -1.  0. ...  0.  0.  0.]\n",
      " [-1. -2. -1. ...  0.  0.  0.]\n",
      " [ 0. -1. -2. ...  0.  0.  0.]\n",
      " ...\n",
      " [ 0.  0.  0. ... -2. -1.  0.]\n",
      " [ 0.  0.  0. ... -1. -2. -1.]\n",
      " [ 0.  0.  0. ...  0. -1. -3.]]\n",
      "[[-0.49375  0.48125 -0.46875 ...  0.03125 -0.01875  0.00625]\n",
      " [ 0.48125 -1.44375  1.40625 ... -0.09375  0.05625 -0.01875]\n",
      " [-0.46875  1.40625 -2.34375 ...  0.15625 -0.09375  0.03125]\n",
      " ...\n",
      " [ 0.03125 -0.09375  0.15625 ... -2.34375  1.40625 -0.46875]\n",
      " [-0.01875  0.05625 -0.09375 ...  1.40625 -1.44375  0.48125]\n",
      " [ 0.00625 -0.01875  0.03125 ... -0.46875  0.48125 -0.49375]]\n"
     ]
    }
   ],
   "source": [
    "m,k,w=1,1,2\n",
    "\n",
    "def d(w):\n",
    "    return (2*k)-(m*(w**2))\n",
    "\n",
    "M2 = np.identity(40)\n",
    "for N in range(0,40):\n",
    "    for M in range(0,40):\n",
    "        if N == 0 and M == 0:\n",
    "            M2[N][M] = d(w)-k\n",
    "            \n",
    "        elif N == 0 and M == 1:\n",
    "            M2[N][M] =-k\n",
    "            \n",
    "        elif N == 39 and M == 38:\n",
    "            M2[N][M] =-k\n",
    "            \n",
    "        elif N == 39 and M == 39:\n",
    "            M2[N][M] = d(w)-k\n",
    "            \n",
    "        elif N == M+1:\n",
    "            M2[N][M] =-k\n",
    "            \n",
    "        elif N == M:\n",
    "            M2[N][M] = d(w)\n",
    "            \n",
    "        elif N == M-1:\n",
    "            M2[N][M] =-k\n",
    "            \n",
    "print(M2)\n",
    "M2i = np.linalg.inv(M2)\n",
    "print(M2i)"
   ]
  },
  {
   "cell_type": "code",
   "execution_count": 5,
   "metadata": {
    "scrolled": false
   },
   "outputs": [
    {
     "name": "stdout",
     "output_type": "stream",
     "text": [
      "[[-8. -1.  0. ...  0.  0.  0.]\n",
      " [-1. -7. -1. ...  0.  0.  0.]\n",
      " [ 0. -1. -7. ...  0.  0.  0.]\n",
      " ...\n",
      " [ 0.  0.  0. ... -7. -1.  0.]\n",
      " [ 0.  0.  0. ... -1. -7. -1.]\n",
      " [ 0.  0.  0. ...  0. -1. -8.]]\n",
      "[[-1.27322004e-01  1.85760300e-02 -2.71020625e-03 ...  1.49521621e-32\n",
      "  -2.17485994e-33  2.71857493e-34]\n",
      " [ 1.85760300e-02 -1.48608240e-01  2.16816500e-02 ... -1.19617297e-31\n",
      "   1.73988795e-32 -2.17485994e-33]\n",
      " [-2.71020625e-03  2.16816500e-02 -1.49061344e-01 ...  8.22368916e-31\n",
      "  -1.19617297e-31  1.49521621e-32]\n",
      " ...\n",
      " [ 1.49521621e-32 -1.19617297e-31  8.22368916e-31 ... -1.49061344e-01\n",
      "   2.16816500e-02 -2.71020625e-03]\n",
      " [-2.17485994e-33  1.73988795e-32 -1.19617297e-31 ...  2.16816500e-02\n",
      "  -1.48608240e-01  1.85760300e-02]\n",
      " [ 2.71857493e-34 -2.17485994e-33  1.49521621e-32 ... -2.71020625e-03\n",
      "   1.85760300e-02 -1.27322004e-01]]\n"
     ]
    }
   ],
   "source": [
    "m,k,w=1,1,3\n",
    "\n",
    "def d(w):\n",
    "    return (2*k)-(m*(w**2))\n",
    "\n",
    "M3 = np.identity(40)\n",
    "for N in range(0,40):\n",
    "    for M in range(0,40):\n",
    "        if N == 0 and M == 0:\n",
    "            M3[N][M] = d(w)-k\n",
    "            \n",
    "        elif N == 0 and M == 1:\n",
    "            M3[N][M] =-k\n",
    "            \n",
    "        elif N == 39 and M == 38:\n",
    "            M3[N][M] =-k\n",
    "            \n",
    "        elif N == 39 and M == 39:\n",
    "            M3[N][M] = d(w)-k\n",
    "            \n",
    "        elif N == M+1:\n",
    "            M3[N][M] =-k\n",
    "            \n",
    "        elif N == M:\n",
    "            M3[N][M] = d(w)\n",
    "            \n",
    "        elif N == M-1:\n",
    "            M3[N][M] =-k\n",
    "print(M3)\n",
    "M3i = np.linalg.inv(M3)\n",
    "print(M3i)"
   ]
  },
  {
   "cell_type": "code",
   "execution_count": 6,
   "metadata": {},
   "outputs": [
    {
     "name": "stdout",
     "output_type": "stream",
     "text": [
      "[[-15.  -1.   0. ...   0.   0.   0.]\n",
      " [ -1. -14.  -1. ...   0.   0.   0.]\n",
      " [  0.  -1. -14. ...   0.   0.   0.]\n",
      " ...\n",
      " [  0.   0.   0. ... -14.  -1.   0.]\n",
      " [  0.   0.   0. ...  -1. -14.  -1.]\n",
      " [  0.   0.   0. ...   0.  -1. -15.]]\n",
      "[[-6.69872981e-02  4.80947162e-03 -3.45304526e-04 ...  3.17594604e-44\n",
      "  -2.27938711e-45  1.51959141e-46]\n",
      " [ 4.80947162e-03 -7.21420743e-02  5.17956789e-03 ... -4.76391906e-43\n",
      "   3.41908067e-44 -2.27938711e-45]\n",
      " [-3.45304526e-04  5.17956789e-03 -7.21686460e-02 ...  6.63772722e-42\n",
      "  -4.76391906e-43  3.17594604e-44]\n",
      " ...\n",
      " [ 3.17594604e-44 -4.76391906e-43  6.63772722e-42 ... -7.21686460e-02\n",
      "   5.17956789e-03 -3.45304526e-04]\n",
      " [-2.27938711e-45  3.41908067e-44 -4.76391906e-43 ...  5.17956789e-03\n",
      "  -7.21420743e-02  4.80947162e-03]\n",
      " [ 1.51959141e-46 -2.27938711e-45  3.17594604e-44 ... -3.45304526e-04\n",
      "   4.80947162e-03 -6.69872981e-02]]\n"
     ]
    }
   ],
   "source": [
    "m,k,w=1,1,4\n",
    "\n",
    "def d(w):\n",
    "    return (2*k)-(m*(w**2))\n",
    "\n",
    "M4 = np.identity(40)\n",
    "for N in range(0,40):\n",
    "    for M in range(0,40):\n",
    "        if N == 0 and M == 0:\n",
    "            M4[N][M] = d(w)-k\n",
    "            \n",
    "        elif N == 0 and M == 1:\n",
    "            M4[N][M] =-k\n",
    "            \n",
    "        elif N == 39 and M == 38:\n",
    "            M4[N][M] =-k\n",
    "            \n",
    "        elif N == 39 and M == 39:\n",
    "            M4[N][M] = d(w)-k\n",
    "            \n",
    "        elif N == M+1:\n",
    "            M4[N][M] =-k\n",
    "            \n",
    "        elif N == M:\n",
    "            M4[N][M] = d(w)\n",
    "            \n",
    "        elif N == M-1:\n",
    "            M4[N][M] =-k\n",
    "print(M4)\n",
    "M4i = np.linalg.inv(M4)\n",
    "print(M4i)"
   ]
  },
  {
   "cell_type": "code",
   "execution_count": 7,
   "metadata": {},
   "outputs": [],
   "source": [
    "C=np.eye(40,1,0)"
   ]
  },
  {
   "cell_type": "code",
   "execution_count": 8,
   "metadata": {},
   "outputs": [],
   "source": [
    "MC1 = np.dot(M1i,C)\n",
    "MC2 = np.dot(M2i,C)\n",
    "MC3 = np.dot(M3i,C)\n",
    "MC4 = np.dot(M4i,C)"
   ]
  },
  {
   "cell_type": "code",
   "execution_count": 9,
   "metadata": {
    "scrolled": true
   },
   "outputs": [
    {
     "data": {
      "image/png": "[encoded data removed]",
      "text/plain": [
       "<Figure size 432x288 with 1 Axes>"
      ]
     },
     "metadata": {
      "needs_background": "light"
     },
     "output_type": "display_data"
    }
   ],
   "source": [
    "plt.plot(MC1,label='w=1', color='cyan')\n",
    "plt.plot(MC2,label='w=2', color='red')\n",
    "plt.plot(MC3,label='w=3', color='blue')\n",
    "plt.plot(MC4,label='w=4', color='yellow')\n",
    "plt.legend()\n",
    "plt.grid()"
   ]
  },
  {
   "cell_type": "markdown",
   "metadata": {},
   "source": [
    "$w$가 증가 함에 따라서 $x$의 증가에 의해 $0$에 수렴하게 된다."
   ]
  },
  {
   "cell_type": "markdown",
   "metadata": {},
   "source": [
    "# 2. 양쪽 끝에서 힘을 가하면 어떻게 되는가?"
   ]
  },
  {
   "cell_type": "markdown",
   "metadata": {},
   "source": [
    "즉, b행렬이 다음과 같은 경우에 대해서 살펴보아라.$$\n",
    "b=\n",
    "\\begin{pmatrix}\n",
    "C \\\\ \n",
    "0 \\\\ \n",
    "0 \\\\ \n",
    "\\cdots \\\\ \n",
    "C \n",
    "\\end{pmatrix}\n",
    "$$\n",
    "\n",
    "$m=1$, $k=1$, $C=1$, $N=40$으로 고정하세요.\n",
    "\n",
    "$w$ (즉, d)를 바꾸어가면서 $a_i$를 구하세요.\n",
    "\n",
    "이를 그래프로 표현하고 의미를 설명하세요."
   ]
  },
  {
   "cell_type": "code",
   "execution_count": 10,
   "metadata": {},
   "outputs": [],
   "source": [
    "C = np.eye(40,1,0)\n",
    "CP = np.flipud(C)\n",
    "C_1 = CP + C"
   ]
  },
  {
   "cell_type": "code",
   "execution_count": 11,
   "metadata": {},
   "outputs": [],
   "source": [
    "MC_1 = np.dot(M1i,C_1)\n",
    "MC_2 = np.dot(M2i,C_1)\n",
    "MC_3 = np.dot(M3i,C_1)\n",
    "MC_4 = np.dot(M4i,C_1)"
   ]
  },
  {
   "cell_type": "code",
   "execution_count": 12,
   "metadata": {
    "scrolled": true
   },
   "outputs": [
    {
     "data": {
      "image/png": "[encoded data removed]",
      "text/plain": [
       "<Figure size 432x288 with 1 Axes>"
      ]
     },
     "metadata": {
      "needs_background": "light"
     },
     "output_type": "display_data"
    }
   ],
   "source": [
    "plt.plot(MC_1,label='w=1', color='cyan')\n",
    "plt.plot(MC_2,label='w=2', color='red')\n",
    "plt.plot(MC_3,label='w=3', color='blue')\n",
    "plt.plot(MC_4,label='w=4', color='yellow')\n",
    "plt.legend()\n",
    "plt.grid()"
   ]
  },
  {
   "cell_type": "markdown",
   "metadata": {},
   "source": [
    " $w$가 증가 함에 따라서 양쪽에서의 힘을 받기 때문에 중앙에서 0에 수렴하게 된다."
   ]
  }
 ],
 "metadata": {
  "kernelspec": {
   "display_name": "Python 3",
   "language": "python",
   "name": "python3"
  },
  "language_info": {
   "codemirror_mode": {
    "name": "ipython",
    "version": 3
   },
   "file_extension": ".py",
   "mimetype": "text/x-python",
   "name": "python",
   "nbconvert_exporter": "python",
   "pygments_lexer": "ipython3",
   "version": "3.8.5"
  }
 },
 "nbformat": 4,
 "nbformat_minor": 4
}
