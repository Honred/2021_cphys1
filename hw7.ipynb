{
 "cells": [
  {
   "cell_type": "code",
   "execution_count": 32,
   "metadata": {},
   "outputs": [],
   "source": [
    "import matplotlib.pyplot as plt\n",
    "import numpy as np\n"
   ]
  },
  {
   "cell_type": "markdown",
   "metadata": {},
   "source": [
    "# Pauli Matrices\n",
    "파울리 행렬의 아이겐밸류와 아이겐벡터를 구하시오.\n",
    "\n",
    "$$ s_x = \\begin{pmatrix} 0 & 1 \\\\ 1 & 0 \\end{pmatrix}, \\quad\n",
    "s_y = \\begin{pmatrix} 0 & -j \\\\ j & 0 \\end{pmatrix}, \\quad\n",
    "s_z  = \\begin{pmatrix} 1 & 0 \\\\ 0 & -1 \\end{pmatrix}. $$"
   ]
  },
  {
   "cell_type": "code",
   "execution_count": 35,
   "metadata": {},
   "outputs": [],
   "source": [
    "sx = np.array([[0, 1]\n",
    "             ,[1, 0]])\n",
    "sy = np.array([[0, -1j]\n",
    "             ,[1j, 0]])\n",
    "sz = np.array([[1, 0]\n",
    "             ,[0, -1]])"
   ]
  },
  {
   "cell_type": "code",
   "execution_count": 34,
   "metadata": {},
   "outputs": [
    {
     "name": "stdout",
     "output_type": "stream",
     "text": [
      "s_x의 아이겐 밸류와 아이겐 벡터\n",
      "(array([ 1., -1.]), array([[ 0.70710678, -0.70710678],\n",
      "       [ 0.70710678,  0.70710678]]))\n",
      "s_y의 아이겐 밸류와 아이겐 벡터\n",
      "(array([ 1.+0.j, -1.+0.j]), array([[-0.        -0.70710678j,  0.70710678+0.j        ],\n",
      "       [ 0.70710678+0.j        ,  0.        -0.70710678j]]))\n",
      "s_z의 아이겐 밸류와 아이겐 벡터\n",
      "(array([ 1., -1.]), array([[1., 0.],\n",
      "       [0., 1.]]))\n"
     ]
    }
   ],
   "source": [
    "print(\"s_x의 아이겐 밸류와 아이겐 벡터\")\n",
    "print(np.linalg.eig(sx))\n",
    "print(\"s_y의 아이겐 밸류와 아이겐 벡터\")\n",
    "print(np.linalg.eig(sy))\n",
    "print(\"s_z의 아이겐 밸류와 아이겐 벡터\")\n",
    "print(np.linalg.eig(sz))"
   ]
  },
  {
   "cell_type": "markdown",
   "metadata": {},
   "source": [
    "# Normal Modes\n",
    "(고전역학 by Thornton & Marion 챕터 12.2 및 예제 12.3 참조) 용수철 상수가 $k$인 용수철에 연결된 두 개의 물체의 노말 모드를 구해보자. 두 개의 물체의 운동방정식은 다음으로 주어진다.$$ -m w^2 x_1 = -2kx_1 +k x_2, \\\\\n",
    "-m w^2 x_2 = k x_1 - 2 k x_2.$$eigenfrequencies $w$는 다음의 행렬식을 통해 구할 수 있다.$$ \\frac{k}{m w^2} \\begin{pmatrix} 2 & -1 \\\\ -1 & 2 \\end{pmatrix} \n",
    "\\begin{pmatrix} x_1 \\\\ x_2 \\end{pmatrix}=\n",
    "\\lambda \\begin{pmatrix} x_1 \\\\ x_2 \\end{pmatrix} $$"
   ]
  },
  {
   "cell_type": "markdown",
   "metadata": {},
   "source": [
    "위의 행렬의 고유값을 구하자."
   ]
  },
  {
   "cell_type": "code",
   "execution_count": 39,
   "metadata": {},
   "outputs": [
    {
     "data": {
      "text/plain": [
       "(array([3., 1.]),\n",
       " array([[ 0.70710678,  0.70710678],\n",
       "        [-0.70710678,  0.70710678]]))"
      ]
     },
     "execution_count": 39,
     "metadata": {},
     "output_type": "execute_result"
    }
   ],
   "source": [
    "np.linalg.eig([[2,-1],[-1,2]])"
   ]
  },
  {
   "cell_type": "markdown",
   "metadata": {},
   "source": [
    "따라서 eigenfrequencies는$$ w_1 = \\sqrt{\\frac{k}{m}}, \\quad w_2 = \\sqrt{\\frac{3k}{m}}. $$\n",
    "\n",
    "위에서 구한 아이겐벡터와 아이겐밸류의 의미를 설명하여라."
   ]
  },
  {
   "cell_type": "markdown",
   "metadata": {},
   "source": [
    "아이겐밸류 𝜆 = 3, 1이다. 이를 통해 식을 정리하면 $$ w = \\sqrt{\\frac{\\lambda k}{m}}$$이며 위의 식과 같이$$ w_1 = \\sqrt{\\frac{k}{m}}, \\quad w_2 = \\sqrt{\\frac{3k}{m}}. $$로 정리 된다."
   ]
  },
  {
   "cell_type": "markdown",
   "metadata": {},
   "source": [
    "이 때$ w $를 운동방정식에 대입하면"
   ]
  },
  {
   "cell_type": "markdown",
   "metadata": {},
   "source": [
    "𝜆 = 1일 때 운동방정식은\n",
    "$$x_1 = x_2$$이며\n",
    "\n",
    "𝜆 = 2일 때 운동방정식은\n",
    "$$-x_1 = x_2$$\n",
    "$$or$$\n",
    "$$x_1 = -x_2$$\n",
    "이다. \n",
    "\n",
    "따라서 아이겐밸류가 1일때는 각 물체의 운동방향이 같으며 아이겐벡터의 크기가 같으므로 운동의 크기또한 같고, 아이겐밸류가 3일때는 각 물체의 운동방향이 반대이며 아이겐벡터의 크기가 같으므로 운동의 크기는 같다."
   ]
  }
 ],
 "metadata": {
  "kernelspec": {
   "display_name": "Python 3",
   "language": "python",
   "name": "python3"
  },
  "language_info": {
   "codemirror_mode": {
    "name": "ipython",
    "version": 3
   },
   "file_extension": ".py",
   "mimetype": "text/x-python",
   "name": "python",
   "nbconvert_exporter": "python",
   "pygments_lexer": "ipython3",
   "version": "3.8.5"
  }
 },
 "nbformat": 4,
 "nbformat_minor": 4
}
