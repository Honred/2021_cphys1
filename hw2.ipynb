{
 "cells": [
  {
   "cell_type": "markdown",
   "metadata": {},
   "source": [
    "# 로지스틱 맵"
   ]
  },
  {
   "cell_type": "code",
   "execution_count": 5,
   "metadata": {},
   "outputs": [
    {
     "name": "stdout",
     "output_type": "stream",
     "text": [
      "1.125\n",
      "-0.6328125\n",
      "-4.649688720703125\n",
      "-118.21182264061645\n",
      "-63415.11075595729\n",
      "-18096928592.854885\n",
      "-1.4737447103084353e+21\n",
      "-9.773655620229423e+42\n",
      "-4.298595488227898e+86\n",
      "-8.315065427135959e+173\n",
      "-inf\n",
      "-inf\n",
      "-inf\n",
      "-inf\n",
      "-inf\n",
      "-inf\n",
      "-inf\n",
      "-inf\n",
      "-inf\n",
      "-inf\n"
     ]
    }
   ],
   "source": [
    "f = 0.5\n",
    "r = 4.5\n",
    "n = 1\n",
    "\n",
    "while n<21:\n",
    "    f=r*f*(1-f)\n",
    "    print(f)\n",
    "    n = n+1"
   ]
  },
  {
   "cell_type": "code",
   "execution_count": 6,
   "metadata": {},
   "outputs": [
    {
     "name": "stdout",
     "output_type": "stream",
     "text": [
      "1.12455\n",
      "-0.6302821612499996\n",
      "-4.623919938179865\n",
      "-117.0204998979472\n",
      "-62148.68053318534\n",
      "-17381342883.134087\n",
      "-1.359499861973058e+21\n",
      "-8.317079436171436e+42\n",
      "-3.11282146564136e+86\n",
      "-4.360345864630932e+173\n",
      "-inf\n",
      "-inf\n",
      "-inf\n",
      "-inf\n",
      "-inf\n",
      "-inf\n",
      "-inf\n",
      "-inf\n",
      "-inf\n",
      "-inf\n"
     ]
    }
   ],
   "source": [
    "f = 0.51\n",
    "r = 4.5\n",
    "n = 1\n",
    "\n",
    "while n<21:\n",
    "    f=r*f*(1-f)\n",
    "    print(f)\n",
    "    n = n+1"
   ]
  },
  {
   "cell_type": "code",
   "execution_count": 1,
   "metadata": {},
   "outputs": [
    {
     "name": "stdout",
     "output_type": "stream",
     "text": [
      "1.1249955\n",
      "-0.6327871875911253\n",
      "-4.649430655667751\n",
      "-118.19986234888862\n",
      "-63402.33294740298\n",
      "-18089636514.7783\n",
      "-1.4725572716470052e+21\n",
      "-9.757912132262123e+42\n",
      "-4.2847582131426745e+86\n",
      "-8.261618825292122e+173\n",
      "-inf\n",
      "-inf\n",
      "-inf\n",
      "-inf\n",
      "-inf\n",
      "-inf\n",
      "-inf\n",
      "-inf\n",
      "-inf\n",
      "-inf\n"
     ]
    }
   ],
   "source": [
    "f = 0.501\n",
    "r = 4.5\n",
    "n = 1\n",
    "\n",
    "while n<21:\n",
    "    f=r*f*(1-f)\n",
    "    print(f)\n",
    "    n = n+1"
   ]
  },
  {
   "cell_type": "markdown",
   "metadata": {},
   "source": [
    "# n번째의 피보나치수 f_n"
   ]
  },
  {
   "cell_type": "code",
   "execution_count": 1,
   "metadata": {},
   "outputs": [
    {
     "data": {
      "text/plain": [
       "43466557686937456435688527675040625802564660517371780402481729089536555417949051890403879840079255169295922593080322634775209689623239873322471161642996440906533187938298969649928516003704476137795166849228875"
      ]
     },
     "execution_count": 1,
     "metadata": {},
     "output_type": "execute_result"
    }
   ],
   "source": [
    "n=1000\n",
    "a=1\n",
    "b=1\n",
    "fn=[1,1]\n",
    "for i in range(n):\n",
    "    f=a+b\n",
    "    fn.append(f)\n",
    "    b=a\n",
    "    a=f\n",
    "\n",
    "fn[n-1]"
   ]
  }
 ],
 "metadata": {
  "kernelspec": {
   "display_name": "Python 3",
   "language": "python",
   "name": "python3"
  },
  "language_info": {
   "codemirror_mode": {
    "name": "ipython",
    "version": 3
   },
   "file_extension": ".py",
   "mimetype": "text/x-python",
   "name": "python",
   "nbconvert_exporter": "python",
   "pygments_lexer": "ipython3",
   "version": "3.8.5"
  }
 },
 "nbformat": 4,
 "nbformat_minor": 4
}
