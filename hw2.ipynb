{
 "cells": [
  {
   "cell_type": "markdown",
   "metadata": {},
   "source": [
    "# Logistic Map (part 2)\n",
    "로지스틱 맵은 다음처럼 주어진다.$$ f_{n+1} = r f_n (1- f_n). $$\n",
    "\n",
    "주어진 $r$과 초기조건 $f_0$에 대해 $f_n$을 다음의 과정을 통해 구하여라.\n",
    "\n",
    "Reference:\n",
    "https://ko.wikipedia.org/wiki/%EB%A1%9C%EC%A7%80%EC%8A%A4%ED%8B%B1_%EC%82%AC%EC%83%81\n",
    "\n",
    "1. $f_n$을 구하는 함수를 작성하여라.\n",
    "2. 작성한 함수를 이용하여 다음의 조건에서 $n=1$에서 $20$까지 로지스틱 맵의 값을 구하여라.\n",
    "\n",
    "    \n",
    "    ■ $r=4.5$, $f_0$=0.5\n",
    "\n",
    "    ■ $r=4.5$, $f_0$=0.51\n",
    "\n",
    "    ■ $r=4.5$, $f_0$=0.501"
   ]
  },
  {
   "cell_type": "markdown",
   "metadata": {},
   "source": [
    "# 로지스틱 맵"
   ]
  },
  {
   "cell_type": "code",
   "execution_count": 75,
   "metadata": {},
   "outputs": [],
   "source": [
    "def logistic(r,f):\n",
    "    n=1\n",
    "    while(n<21):\n",
    "        f=f*r*(1-f)\n",
    "        n=n+1\n",
    "        print('f', n-1, '=', f)"
   ]
  },
  {
   "cell_type": "code",
   "execution_count": 76,
   "metadata": {},
   "outputs": [
    {
     "name": "stdout",
     "output_type": "stream",
     "text": [
      "f 1 = 1.125\n",
      "f 2 = -0.6328125\n",
      "f 3 = -4.649688720703125\n",
      "f 4 = -118.21182264061645\n",
      "f 5 = -63415.11075595729\n",
      "f 6 = -18096928592.854885\n",
      "f 7 = -1.4737447103084353e+21\n",
      "f 8 = -9.773655620229423e+42\n",
      "f 9 = -4.298595488227898e+86\n",
      "f 10 = -8.315065427135959e+173\n",
      "f 11 = -inf\n",
      "f 12 = -inf\n",
      "f 13 = -inf\n",
      "f 14 = -inf\n",
      "f 15 = -inf\n",
      "f 16 = -inf\n",
      "f 17 = -inf\n",
      "f 18 = -inf\n",
      "f 19 = -inf\n",
      "f 20 = -inf\n"
     ]
    }
   ],
   "source": [
    "logistic(4.5, 0.5)"
   ]
  },
  {
   "cell_type": "code",
   "execution_count": 77,
   "metadata": {},
   "outputs": [
    {
     "name": "stdout",
     "output_type": "stream",
     "text": [
      "f 1 = 1.12455\n",
      "f 2 = -0.6302821612499996\n",
      "f 3 = -4.623919938179865\n",
      "f 4 = -117.0204998979472\n",
      "f 5 = -62148.68053318534\n",
      "f 6 = -17381342883.134087\n",
      "f 7 = -1.359499861973058e+21\n",
      "f 8 = -8.317079436171436e+42\n",
      "f 9 = -3.11282146564136e+86\n",
      "f 10 = -4.360345864630932e+173\n",
      "f 11 = -inf\n",
      "f 12 = -inf\n",
      "f 13 = -inf\n",
      "f 14 = -inf\n",
      "f 15 = -inf\n",
      "f 16 = -inf\n",
      "f 17 = -inf\n",
      "f 18 = -inf\n",
      "f 19 = -inf\n",
      "f 20 = -inf\n"
     ]
    }
   ],
   "source": [
    "logistic(4.5, 0.51)"
   ]
  },
  {
   "cell_type": "code",
   "execution_count": 78,
   "metadata": {
    "scrolled": true
   },
   "outputs": [
    {
     "name": "stdout",
     "output_type": "stream",
     "text": [
      "f 1 = 1.1249955\n",
      "f 2 = -0.6327871875911253\n",
      "f 3 = -4.649430655667751\n",
      "f 4 = -118.19986234888862\n",
      "f 5 = -63402.33294740298\n",
      "f 6 = -18089636514.7783\n",
      "f 7 = -1.4725572716470052e+21\n",
      "f 8 = -9.757912132262123e+42\n",
      "f 9 = -4.2847582131426745e+86\n",
      "f 10 = -8.261618825292122e+173\n",
      "f 11 = -inf\n",
      "f 12 = -inf\n",
      "f 13 = -inf\n",
      "f 14 = -inf\n",
      "f 15 = -inf\n",
      "f 16 = -inf\n",
      "f 17 = -inf\n",
      "f 18 = -inf\n",
      "f 19 = -inf\n",
      "f 20 = -inf\n"
     ]
    }
   ],
   "source": [
    "logistic(4.5, 0.501)"
   ]
  },
  {
   "cell_type": "markdown",
   "metadata": {},
   "source": [
    "# n번째 피보나치 수"
   ]
  },
  {
   "cell_type": "code",
   "execution_count": 73,
   "metadata": {},
   "outputs": [],
   "source": [
    "def fib(n):\n",
    "    fn = [1, 1]\n",
    "    a = 1\n",
    "    b = 1\n",
    "    s = 0\n",
    "    for i in range(n):\n",
    "        f = a + b\n",
    "        fn.append(f)\n",
    "        b = a\n",
    "        a = f\n",
    "    print(n, '번째 피보나치 수', fn[n-1])"
   ]
  },
  {
   "cell_type": "code",
   "execution_count": 74,
   "metadata": {},
   "outputs": [
    {
     "name": "stdout",
     "output_type": "stream",
     "text": [
      "9 번째 피보나치 수 34\n"
     ]
    }
   ],
   "source": [
    "fib(9)"
   ]
  }
 ],
 "metadata": {
  "kernelspec": {
   "display_name": "Python 3",
   "language": "python",
   "name": "python3"
  },
  "language_info": {
   "codemirror_mode": {
    "name": "ipython",
    "version": 3
   },
   "file_extension": ".py",
   "mimetype": "text/x-python",
   "name": "python",
   "nbconvert_exporter": "python",
   "pygments_lexer": "ipython3",
   "version": "3.8.5"
  }
 },
 "nbformat": 4,
 "nbformat_minor": 4
}
